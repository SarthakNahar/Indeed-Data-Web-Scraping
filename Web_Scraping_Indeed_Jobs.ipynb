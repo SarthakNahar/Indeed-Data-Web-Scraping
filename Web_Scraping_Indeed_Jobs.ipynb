{
 "cells": [
  {
   "cell_type": "code",
   "execution_count": 1,
   "id": "63a997e3",
   "metadata": {},
   "outputs": [],
   "source": [
    "import re\n",
    "import requests\n",
    "import numpy as np\n",
    "import pandas as pd\n",
    "from time import sleep\n",
    "from random import randint\n",
    "from bs4 import BeautifulSoup"
   ]
  },
  {
   "cell_type": "code",
   "execution_count": 2,
   "id": "3fc490f1",
   "metadata": {},
   "outputs": [],
   "source": [
    "Job_Title_Name = []\n",
    "Company_Name = []\n",
    "Experience_Required = []\n",
    "Salary = []\n",
    "Location = []\n",
    "Job_Description = []\n",
    "Key_Skills = []\n"
   ]
  },
  {
   "cell_type": "code",
   "execution_count": 3,
   "id": "d5e1162c",
   "metadata": {},
   "outputs": [],
   "source": [
    "for i in range(0, 340, 10):\n",
    "    url = \"https://in.indeed.com/jobs?q=AI+Engineer&l=India&start=\" + \\\n",
    "        str(i) + \"&vjk=432eb68d4a23220a\"\n",
    "    sleep(randint(2, 5))\n",
    "\n",
    "    # Making a GET request\n",
    "    r = requests.get(url)\n",
    "\n",
    "    # check status code for response received\n",
    "    # success code - 200\n",
    "    # print(r)\n",
    "\n",
    "    # print content of request\n",
    "    htmlContent = r.content\n",
    "    # print(htmlContent)\n",
    "\n",
    "    # Parse the HTML\n",
    "    soup = BeautifulSoup(htmlContent, 'html.parser')\n",
    "    # print(soup.prettify)\n",
    "\n",
    "    # HTML Tree Traversal\n",
    "\n",
    "    # Get the Title of the HTML page\n",
    "    title = soup.title\n",
    "    # print(title.string)\n",
    "\n",
    "    title = soup.find_all('h2', attrs={'class': 'jobTitle'})\n",
    "\n",
    "    for h2 in title:\n",
    "        A = h2.get_text()\n",
    "        Job_Title_Name.append(A)\n",
    "\n",
    "    # print(Job_Title_Name)\n",
    "    # print(len(Job_Title_Name))\n",
    "\n",
    "    name = soup.find_all('span', attrs={'class': 'companyName'})\n",
    "\n",
    "    for n in name:\n",
    "        B = n.get_text()\n",
    "        Company_Name.append(B)\n",
    "\n",
    "    # print(Company_Name)\n",
    "    # print(len(Company_Name))\n",
    "\n",
    "    loc = soup.find_all('div', attrs={'class': 'companyLocation'})\n",
    "\n",
    "    for l in loc:\n",
    "        C = l.get_text()\n",
    "        Location.append(C)\n",
    "\n",
    "    # print(Location)\n",
    "    # print(len(Location))\n",
    "\n",
    "    sum = soup.find_all('div', attrs={'class': 'job-snippet'})\n",
    "\n",
    "    for s in sum:\n",
    "        F = s.get_text()\n",
    "        Job_Description.append(F)\n",
    "\n",
    "    # print(Job_Description)\n",
    "    # print(len(Job_Description))\n"
   ]
  },
  {
   "cell_type": "code",
   "execution_count": 4,
   "id": "89a22d63",
   "metadata": {},
   "outputs": [],
   "source": [
    "for i in range(1, len(Job_Title_Name) + 1):\n",
    "    Salary.append(np.nan)\n",
    "    Experience_Required.append(np.nan)\n",
    "    Key_Skills.append(np.nan)\n"
   ]
  },
  {
   "cell_type": "code",
   "execution_count": 5,
   "id": "607b94f5",
   "metadata": {},
   "outputs": [
    {
     "name": "stdout",
     "output_type": "stream",
     "text": [
      "   Sr. No.                                          Job Title  \\\n",
      "0        1                                     newAI Engineer   \n",
      "1        2                                     BPS- Data & AI   \n",
      "2        3                                     Content Writer   \n",
      "3        4  Technical Support Engineer - With AI based pro...   \n",
      "4        5                                     newAI Engineer   \n",
      "\n",
      "                       Company Name  Experience Required  Salary  \\\n",
      "0                  Procter & Gamble                  NaN     NaN   \n",
      "1                               IBM                  NaN     NaN   \n",
      "2              Lotus Interworks Inc                  NaN     NaN   \n",
      "3   Connect2careerz Private Limited                  NaN     NaN   \n",
      "4  Schemaphic Systems India Pvt Ltd                  NaN     NaN   \n",
      "\n",
      "               Location                                    Job Description  \\\n",
      "0   Mumbai, Maharashtra  \\nDevelops tools, systems and processes to ena...   \n",
      "1   Mumbai, Maharashtra  \\nAbility to work with sales engineers and cus...   \n",
      "2                Remote  \\nOur product Simplia is re-inventing Online L...   \n",
      "3  Bengaluru, Karnataka  \\nAssist customers in solving problems related...   \n",
      "4  Kolkata, West Bengal  \\nWork cross-functionally with product manager...   \n",
      "\n",
      "   Key Skills  \n",
      "0         NaN  \n",
      "1         NaN  \n",
      "2         NaN  \n",
      "3         NaN  \n",
      "4         NaN  \n"
     ]
    }
   ],
   "source": [
    "data = {\n",
    "        'Sr. No.': [*range(1, len(Job_Title_Name)+1)],\n",
    "        'Job Title': Job_Title_Name,\n",
    "        'Company Name': Company_Name,\n",
    "        'Experience Required': Experience_Required,\n",
    "        'Salary': Salary,\n",
    "        'Location': Location,\n",
    "        'Job Description': Job_Description,\n",
    "        'Key Skills': Key_Skills\n",
    "}\n",
    "\n",
    "df = pd.DataFrame(data)\n",
    "print(df.head(5))\n"
   ]
  },
  {
   "cell_type": "code",
   "execution_count": 6,
   "id": "a38a30dd",
   "metadata": {},
   "outputs": [],
   "source": [
    "df.to_csv('Indeed_Dataset.csv', index = False)"
   ]
  }
 ],
 "metadata": {
  "interpreter": {
   "hash": "c2caa8a012d727d993b3ae12ee947b2851de7f59fbab49c2d316b966fedb3783"
  },
  "kernelspec": {
   "display_name": "Python 3 (ipykernel)",
   "language": "python",
   "name": "python3"
  },
  "language_info": {
   "codemirror_mode": {
    "name": "ipython",
    "version": 3
   },
   "file_extension": ".py",
   "mimetype": "text/x-python",
   "name": "python",
   "nbconvert_exporter": "python",
   "pygments_lexer": "ipython3",
   "version": "3.9.7"
  }
 },
 "nbformat": 4,
 "nbformat_minor": 5
}
